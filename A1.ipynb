{
 "cells": [
  {
   "cell_type": "markdown",
   "metadata": {},
   "source": [
    "# Assignment 1: Web Scraping"
   ]
  },
  {
   "cell_type": "markdown",
   "metadata": {},
   "source": [
    "## Objective"
   ]
  },
  {
   "cell_type": "markdown",
   "metadata": {},
   "source": [
    "Data scientists often need to crawl data from websites and turn the crawled data (HTML pages) to structured data (tables). Thus, web scraping is an essential skill that every data scientist should master. In this assignment, you will learn the followings:\n",
    "\n",
    "\n",
    "* How to use [requests](http://www.python-requests.org/en/master/) to download HTML pages from a website?\n",
    "* How to select content on a webpage with [lxml](http://lxml.de/)? \n",
    "\n",
    "You can either use Spark DataFrame or [pandas.DataFrame](http://pandas.pydata.org/pandas-docs/stable/generated/pandas.DataFrame.html) to do the assignment. In comparison, pandas.DataFrame has richer APIs, but is not good at distributed computing."
   ]
  },
  {
   "cell_type": "markdown",
   "metadata": {},
   "source": [
    "## Preliminary"
   ]
  },
  {
   "cell_type": "markdown",
   "metadata": {},
   "source": [
    "If this is your first time to write a web scraper, you need to learn some basic knowledge of HTML, DOM, and XPath. I found that this is a good resource: [https://data-lessons.github.io](https://data-lessons.github.io/library-webscraping-DEPRECATED/). Please take a look at\n",
    "\n",
    "* [Selecting content on a web page with XPath\n",
    "](https://data-lessons.github.io/library-webscraping-DEPRECATED/xpath/)\n",
    "* [Web scraping using Python: requests and lxml](https://data-lessons.github.io/library-webscraping-DEPRECATED/04-lxml/). \n",
    "\n",
    "Please let me know if you find a better resource. I'll share it with the other students."
   ]
  },
  {
   "cell_type": "markdown",
   "metadata": {},
   "source": [
    "## Overview"
   ]
  },
  {
   "cell_type": "markdown",
   "metadata": {},
   "source": [
    "Imagine you are a data scientist working at SFU. One day, you want to analyze CS faculty data and answer two interesting questions:\n",
    "\n",
    "1. Who are the CS faculty members?\n",
    "2. What are their research interests?\n",
    "\n",
    "To do so, the first thing is to figure out what data to collect."
   ]
  },
  {
   "cell_type": "markdown",
   "metadata": {},
   "source": [
    "## Task 1: SFU CS Faculty Members"
   ]
  },
  {
   "cell_type": "markdown",
   "metadata": {},
   "source": [
    "You find that there is a web page in the CS school website, which lists all the faculty members as well as their basic information. \n",
    "\n",
    "In Task 1, your job is to write a web scraper to extract the faculty information from this page: [https://www.sfu.ca/computing/people/faculty.html](https://www.sfu.ca/computing/people/faculty.html).\n",
    "\n",
    "\n"
   ]
  },
  {
   "cell_type": "markdown",
   "metadata": {},
   "source": [
    "### (a) Crawling Web Page"
   ]
  },
  {
   "cell_type": "markdown",
   "metadata": {},
   "source": [
    "A web page is essentially a file stored in a remote machine (called web server). You can use [requests](http://www.python-requests.org/en/master/) to open such a file and read data from it. Please complete the following code to download the HTML page and save it as a text file (like [this](./faculty.txt)). "
   ]
  },
  {
   "cell_type": "code",
   "execution_count": 1,
   "metadata": {},
   "outputs": [],
   "source": [
    "# 1. Download the webpage\n",
    "import requests\n",
    "response = requests.get('https://www.sfu.ca/computing/people/faculty.html')\n",
    "# 2. Save it as a text file (named faculty.txt)\n",
    "with open(\"faculty.txt\",'w') as f: \n",
    "    f.write(response.text) "
   ]
  },
  {
   "cell_type": "markdown",
   "metadata": {},
   "source": [
    "### (b) Extracting Structured Data"
   ]
  },
  {
   "cell_type": "markdown",
   "metadata": {},
   "source": [
    "An HTML page follows the Document Object Model (DOM). It models an HTML page as a tree structure wherein each node is an object representing a part of the page. The nodes can be searched and extracted programmatically using XPath. Please complete the following code to transform the above HTML page to a CSV file (like [this](./faculty_table.csv)). "
   ]
  },
  {
   "cell_type": "code",
   "execution_count": 2,
   "metadata": {
    "code_folding": []
   },
   "outputs": [],
   "source": [
    "import lxml.html \n",
    "\n",
    "# 1. Open faculty.txt\n",
    "with open('faculty.txt','r') as myfile:\n",
    "    file = myfile.read()\n",
    "    \n",
    "# 2. Parse the HTML page as a tree structure\n",
    "tree = lxml.html.fromstring(file)\n",
    "\n",
    "# 3. Extract related content from the tree using XPath\n",
    "tree_name_rank = tree.xpath('//div[@class = \"text\"]//h4')\n",
    "name = []\n",
    "rank = []\n",
    "for x in tree_name_rank:\n",
    "    text_name_rank = str(x.text)\n",
    "    text_name_rank = text_name_rank.strip()\n",
    "    if text_name_rank == 'None':\n",
    "        continue\n",
    "    name_rank = text_name_rank.split(',')\n",
    "    if \"Director\" not in name_rank[0]: \n",
    "        name.append(name_rank[0])\n",
    "        rank.append(name_rank[1])\n",
    "        \n",
    "import pandas as pd\n",
    " \n",
    "df = pd.DataFrame({'name':name})\n",
    "df['rank'] = rank\n",
    "\n",
    "tree_area = tree.xpath('//div[@class = \"text\"]')\n",
    "area = []\n",
    "for x in tree_area:\n",
    "    for y in x:\n",
    "       var1 = str(y.text_content())   \n",
    "       if (var1.startswith(('Area','Fred'))):  \n",
    "        var2 = var1.replace('Area:', '')\n",
    "        var2 = var2.replace(';',',')\n",
    "        var2 = var2.strip()\n",
    "        if not var1.startswith('Fred'):\n",
    "         area.append(var2)\n",
    "        else:\n",
    "         area.append(var2[28:])   \n",
    "df['area'] = area\n",
    "\n",
    "homepage = 'http://www.sfu.ca'\n",
    "tree_link = tree.xpath(\"//div[@class = 'text']//a\")\n",
    "profile = []\n",
    "home_link = [None] * 60\n",
    "for x in tree_link:\n",
    "     var = x.text_content()\n",
    "     var = var.strip()   \n",
    "     if var == \"Profile & Contact Information\":\n",
    "        link = x.get('href')\n",
    "        if not link.startswith(homepage): \n",
    "             link = homepage + link\n",
    "        profile.append(link)  \n",
    "        \n",
    "count = 0    \n",
    "for x in tree_link:    \n",
    "    var = x.text_content()\n",
    "    var = var.strip()\n",
    "    if var == \"Profile & Contact Information\":\n",
    "     count = count + 1   \n",
    "    if var == \"Home Page\":\n",
    "     link_home = x.get('href')\n",
    "     link_home = link_home.strip()\n",
    "     home_link[count-1]=link_home\n",
    "     \n",
    "count = 0\n",
    "for x in home_link:\n",
    "    if x is None:\n",
    "        home_link[count]=\"\"\n",
    "    count = count + 1    \n",
    "\n",
    "df['profile'] = profile\n",
    "df['homepage'] = home_link\n",
    "\n",
    "df.set_index('name',inplace = True)\n",
    "\n",
    "# 4. Save the extracted content as a csv file (named faculty_table.csv)\n",
    "df.to_csv(\"faculty_table.csv\")"
   ]
  },
  {
   "cell_type": "markdown",
   "metadata": {},
   "source": [
    "\n",
    "## Task 2: Research Interests"
   ]
  },
  {
   "cell_type": "markdown",
   "metadata": {},
   "source": [
    "Suppose you want to know the research interests of each faculty. However, the above crawled web page does not contain such information. "
   ]
  },
  {
   "cell_type": "markdown",
   "metadata": {},
   "source": [
    "### (a) Crawling Web Page"
   ]
  },
  {
   "cell_type": "markdown",
   "metadata": {},
   "source": [
    "You notice that such information can be found on the profile page of each faculty. For example, you can find the research interests of Dr. Jiannan Wang from [http://www.sfu.ca/computing/people/faculty/jiannanwang.html](http://www.sfu.ca/computing/people/faculty/jiannanwang.html). \n",
    "\n",
    "\n",
    "Please complete the following code to download the profile pages and save them as text files. There are 60 faculties, so you need to download 60 web pages in total. "
   ]
  },
  {
   "cell_type": "code",
   "execution_count": 3,
   "metadata": {},
   "outputs": [],
   "source": [
    "# 1. Download the profile pages of 60 faculties\n",
    "# 2. Save each page as a text file\n",
    "import requests\n",
    "count = 1\n",
    "for pages in profile:\n",
    "    r = requests.get(pages)\n",
    "    with open(str(count) +'.txt','w') as f: \n",
    "     f.write(r.text) \n",
    "     count = count + 1"
   ]
  },
  {
   "cell_type": "markdown",
   "metadata": {},
   "source": [
    "### (b) Extracting Structured Data"
   ]
  },
  {
   "cell_type": "markdown",
   "metadata": {},
   "source": [
    "Please complete the following code to extract the research interests of each faculty, and generate a file like [this](./faculty_more_table.csv). "
   ]
  },
  {
   "cell_type": "code",
   "execution_count": 4,
   "metadata": {},
   "outputs": [],
   "source": [
    "import lxml.html\n",
    "import requests\n",
    "import pandas as pd\n",
    "research_interests = []\n",
    "c = 1\n",
    "list_number = []\n",
    "while c < 61:\n",
    "    list_number.append(c)\n",
    "    c = c + 1\n",
    "# 1. Open each text file and parse it as a tree structure\n",
    "for x in list_number:  \n",
    "    interests = []\n",
    "    with open(str(x) +'.txt','r') as myfile:\n",
    "        file = myfile.read()    \n",
    "    tree = lxml.html.fromstring(file)\n",
    "# 2. Extract the research interests from each tree using XPath\n",
    "    tree_element = tree.xpath(\"//div[@class = 'ruled']\")\n",
    "    if not tree_element:\n",
    "      tree_element = tree.xpath(\"//div[@class = ' listed' or @class = 'listed']\")\n",
    "    flag = 0\n",
    "    for x in tree_element:\n",
    "      for y in x: \n",
    "        if flag == 1:\n",
    "            interests.append(y.text_content().strip().split('\\n'))\n",
    "            flag = 0;\n",
    "        if str(y.text).strip().lower() == \"research interests\":\n",
    "            flag = 1    \n",
    "    interests_final = []\n",
    "    interests_str = str(interests)\n",
    "    interests_str = interests_str.replace('\\\\xa0', '')\n",
    "    interests_str = interests_str.replace('[', '')\n",
    "    interests_str = interests_str.replace(']', '')\n",
    "    interests_str = interests_str.replace(\"'',\", \"\")\n",
    "    interests_str = \"[\" + interests_str + \"]\"\n",
    "    interests_str = interests_str.strip()\n",
    "    research_interests.append(interests_str)\n",
    "\n",
    "# 3. Add the extracted content to faculty_table.csv    \n",
    "df['research_interests'] = research_interests\n",
    "#(PLEASE RUN ALL THE CELLS) (PLEASE RUN ALL THE CELLS) (PLEASE RUN ALL THE CELLS)\n",
    "# If you choose to run this cell only please uncomment the steps given below.\n",
    "# Also make sure to comment out df['research_interests'] = research_interests above.\n",
    "#one can also read the csv file as a dataframe and then add the research_interests column\n",
    "#this can be done as follows:\n",
    "#df = pd.read_csv('faculty_table.csv')\n",
    "#df['research_interests'] = research_interests\n",
    "#df.set_index('name',inplace = True)\n",
    "\n",
    "# 4. Generate a new CSV file, named faculty_more_table.csv\n",
    "df.to_csv(\"faculty_more_table.csv\")"
   ]
  },
  {
   "cell_type": "markdown",
   "metadata": {},
   "source": [
    "## Submission"
   ]
  },
  {
   "cell_type": "markdown",
   "metadata": {},
   "source": [
    "Complete the code in this [notebook](A1.ipynb), and submit it to the CourSys activity `Assignment 1`."
   ]
  }
 ],
 "metadata": {
  "kernelspec": {
   "display_name": "Python 3",
   "language": "python",
   "name": "python3"
  },
  "language_info": {
   "codemirror_mode": {
    "name": "ipython",
    "version": 3
   },
   "file_extension": ".py",
   "mimetype": "text/x-python",
   "name": "python",
   "nbconvert_exporter": "python",
   "pygments_lexer": "ipython3",
   "version": "3.5.2"
  }
 },
 "nbformat": 4,
 "nbformat_minor": 1
}
